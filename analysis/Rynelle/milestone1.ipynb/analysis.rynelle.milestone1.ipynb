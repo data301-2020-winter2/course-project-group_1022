{
 "cells": [
  {
   "cell_type": "code",
   "execution_count": null,
   "id": "brown-plant",
   "metadata": {},
   "outputs": [],
   "source": [
    "import pandas as pd\n",
    "data = pd.read_csv('analysis/Rynelle/milestone1.ipynb/2009_2020-annual-surgical_wait_times.csv')"
   ]
  },
  {
   "cell_type": "code",
   "execution_count": null,
   "id": "great-devices",
   "metadata": {},
   "outputs": [],
   "source": []
  },
  {
   "cell_type": "code",
   "execution_count": null,
   "id": "electrical-crest",
   "metadata": {},
   "outputs": [],
   "source": []
  }
 ],
 "metadata": {
  "kernelspec": {
   "display_name": "",
   "name": ""
  },
  "language_info": {
   "name": ""
  }
 },
 "nbformat": 4,
 "nbformat_minor": 5
}
